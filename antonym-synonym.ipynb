{
 "cells": [
  {
   "cell_type": "code",
   "execution_count": 11,
   "metadata": {},
   "outputs": [
    {
     "name": "stdout",
     "output_type": "stream",
     "text": [
      "antonym_dict len 0 vs line count: 18797\n",
      "Segmented phrases saved to 'segmented_negative_phrases.csv'\n"
     ]
    }
   ],
   "source": [
    "import pandas as pd\n",
    "from collections import defaultdict\n",
    "\n",
    "# Define file paths for each dictionary\n",
    "synonym_file = './dict_synonym.txt'\n",
    "antonym_file = './dict_antonym.txt'\n",
    "\n",
    "# Load synonyms into a dictionary where each word is mapped to all its synonyms\n",
    "synonym_dict = defaultdict(set)\n",
    "with open(synonym_file, 'r', encoding='utf-8') as f:\n",
    "    for line in f:\n",
    "        parts = line.strip().split('--')\n",
    "        if len(parts) == 2:\n",
    "            _, words = parts\n",
    "            word_list = words.split()\n",
    "            for word in word_list:\n",
    "                synonym_dict[word].update(w for w in word_list if w != word)\n",
    "\n",
    "# Convert the synonym dictionary to a DataFrame\n",
    "synonym_grouped = [{'Headword': word, 'Synonyms': ', '.join(sorted(syns))} \n",
    "                   for word, syns in synonym_dict.items()]\n",
    "synonym_df = pd.DataFrame(synonym_grouped)\n",
    "\n",
    "# Load antonyms into a dictionary where each word maps to its antonym\n",
    "antonym_dict = defaultdict(set)\n",
    "lines = 0\n",
    "with open(antonym_file, 'r', encoding='utf-8') as f:\n",
    "    for line in f:\n",
    "        lines+=1\n",
    "        parts = line.strip().split('——')\n",
    "        if len(parts) == 2:\n",
    "            word1, word2 = parts\n",
    "            antonym_dict[word1].add(word2)\n",
    "            antonym_dict[word2].add(word1)\n",
    "\n",
    "print(f'antonym_dict len {len(antonym_dict)} vs line count: {lines}')\n",
    "# Convert the antonym dictionary to a DataFrame\n",
    "antonym_grouped = [{'Headword': word, 'Antonyms': ', '.join(sorted(ants))} \n",
    "                   for word, ants in antonym_dict.items()]\n",
    "antonym_df = pd.DataFrame(antonym_grouped)\n",
    "\n",
    "import jieba\n",
    "import pandas as pd\n",
    "\n",
    "# Define the path to dict_negative.txt\n",
    "negative_file_path = './dict_negative.txt'\n",
    "\n",
    "# Read and segment phrases on each line\n",
    "negative_phrases = []\n",
    "with open(negative_file_path, 'r', encoding='utf-8') as file:\n",
    "    for line in file:\n",
    "        phrase = line.strip().split('\\t')[0]  # Extract only the phrase part\n",
    "        segmented = list(jieba.cut(phrase))   # Segment the phrase with Jieba\n",
    "        negative_phrases.append({'Phrase': phrase, 'Segments': ' '.join(segmented)})\n",
    "\n",
    "# Convert to DataFrame for easy viewing\n",
    "negative_phrases_df = pd.DataFrame(negative_phrases)\n",
    "negative_phrases_df.to_csv('segmented_negative_phrases.csv', index=False, encoding='utf-8')\n",
    "\n",
    "print(\"Segmented phrases saved to 'segmented_negative_phrases.csv'\")\n",
    "\n"
   ]
  },
  {
   "cell_type": "code",
   "execution_count": 8,
   "metadata": {},
   "outputs": [
    {
     "name": "stdout",
     "output_type": "stream",
     "text": [
      "Collecting jieba\n",
      "  Using cached jieba-0.42.1-py3-none-any.whl\n",
      "Requirement already satisfied: pandas in c:\\python12\\lib\\site-packages (2.2.3)\n",
      "Requirement already satisfied: numpy>=1.26.0 in c:\\python12\\lib\\site-packages (from pandas) (2.1.3)\n",
      "Requirement already satisfied: python-dateutil>=2.8.2 in c:\\users\\itfdl\\appdata\\roaming\\python\\python312\\site-packages (from pandas) (2.9.0.post0)\n",
      "Requirement already satisfied: pytz>=2020.1 in c:\\python12\\lib\\site-packages (from pandas) (2024.2)\n",
      "Requirement already satisfied: tzdata>=2022.7 in c:\\python12\\lib\\site-packages (from pandas) (2024.2)\n",
      "Requirement already satisfied: six>=1.5 in c:\\users\\itfdl\\appdata\\roaming\\python\\python312\\site-packages (from python-dateutil>=2.8.2->pandas) (1.16.0)\n",
      "Installing collected packages: jieba\n",
      "Successfully installed jieba-0.42.1\n",
      "Note: you may need to restart the kernel to use updated packages.\n"
     ]
    },
    {
     "name": "stderr",
     "output_type": "stream",
     "text": [
      "\n",
      "[notice] A new release of pip is available: 24.0 -> 24.3.1\n",
      "[notice] To update, run: python.exe -m pip install --upgrade pip\n"
     ]
    }
   ],
   "source": [
    "pip install jieba pandas\n"
   ]
  },
  {
   "cell_type": "code",
   "execution_count": null,
   "metadata": {},
   "outputs": [],
   "source": []
  }
 ],
 "metadata": {
  "kernelspec": {
   "display_name": "Python 3",
   "language": "python",
   "name": "python3"
  },
  "language_info": {
   "codemirror_mode": {
    "name": "ipython",
    "version": 3
   },
   "file_extension": ".py",
   "mimetype": "text/x-python",
   "name": "python",
   "nbconvert_exporter": "python",
   "pygments_lexer": "ipython3",
   "version": "3.12.4"
  }
 },
 "nbformat": 4,
 "nbformat_minor": 2
}
